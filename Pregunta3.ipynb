{
  "nbformat": 4,
  "nbformat_minor": 0,
  "metadata": {
    "colab": {
      "provenance": []
    },
    "kernelspec": {
      "name": "python3",
      "display_name": "Python 3"
    },
    "language_info": {
      "name": "python"
    }
  },
  "cells": [
    {
      "cell_type": "code",
      "execution_count": 18,
      "metadata": {
        "colab": {
          "base_uri": "https://localhost:8080/"
        },
        "id": "VtTcRZZ1Hz7t",
        "outputId": "2647703b-660a-46ef-e2b2-d1b380049f27"
      },
      "outputs": [
        {
          "output_type": "stream",
          "name": "stdout",
          "text": [
            "Requirement already satisfied: pandas in /usr/local/lib/python3.11/dist-packages (2.2.2)\n",
            "Requirement already satisfied: numpy>=1.23.2 in /usr/local/lib/python3.11/dist-packages (from pandas) (1.26.4)\n",
            "Requirement already satisfied: python-dateutil>=2.8.2 in /usr/local/lib/python3.11/dist-packages (from pandas) (2.8.2)\n",
            "Requirement already satisfied: pytz>=2020.1 in /usr/local/lib/python3.11/dist-packages (from pandas) (2025.1)\n",
            "Requirement already satisfied: tzdata>=2022.7 in /usr/local/lib/python3.11/dist-packages (from pandas) (2025.1)\n",
            "Requirement already satisfied: six>=1.5 in /usr/local/lib/python3.11/dist-packages (from python-dateutil>=2.8.2->pandas) (1.17.0)\n"
          ]
        }
      ],
      "source": [
        "!pip install pandas\n",
        "import pandas as pd\n",
        "import re"
      ]
    },
    {
      "cell_type": "markdown",
      "source": [
        "**Cargar los datos. Revisa que cada tipo de dato esté cargado correctamente. Si\n",
        "es numérico, que sea de esa forma, si es fecha, que sea de tipo de fecha, etc.**"
      ],
      "metadata": {
        "id": "rGmmAyKOIn3L"
      }
    },
    {
      "cell_type": "code",
      "source": [
        "try:\n",
        "  df_viajes = pd.read_csv('https://do-strapi.s3.us-east-1.amazonaws.com/viajes_dd8a0ac9e2.csv')\n",
        "  print(\"Viajes ok\")\n",
        "except Exception as e:\n",
        "  print(f\"Error importando viajes: {e}\")\n",
        "\n",
        "try:\n",
        "  df_mediciones = pd.read_csv('https://do-strapi.s3.us-east-1.amazonaws.com/mediciones_4be6910e87.csv')\n",
        "  print(\"Mediciones ok\")\n",
        "except Exception as e:\n",
        "  print(f\"Error importando medisiones: {e}\")\n",
        "\n",
        "#asegurandose que sea fecha:\n",
        "df_viajes['yyyy-mm-ddThh:mm:ss.sss'] = pd.to_datetime(df_viajes['yyyy-mm-ddThh:mm:ss.sss'])"
      ],
      "metadata": {
        "colab": {
          "base_uri": "https://localhost:8080/"
        },
        "id": "tAzRx150IESs",
        "outputId": "e175b1ae-8103-4e89-9252-a6e5b6a7a00b"
      },
      "execution_count": 19,
      "outputs": [
        {
          "output_type": "stream",
          "name": "stdout",
          "text": [
            "Viajes ok\n",
            "Mediciones ok\n"
          ]
        }
      ]
    },
    {
      "cell_type": "code",
      "source": [
        "print(df_viajes.info())\n",
        "print(df_mediciones.info())"
      ],
      "metadata": {
        "colab": {
          "base_uri": "https://localhost:8080/"
        },
        "id": "h1pRGeaBIEFP",
        "outputId": "476f7ffe-d205-4aaf-a0f5-35068ce068d1"
      },
      "execution_count": 8,
      "outputs": [
        {
          "output_type": "stream",
          "name": "stdout",
          "text": [
            "<class 'pandas.core.frame.DataFrame'>\n",
            "RangeIndex: 59 entries, 0 to 58\n",
            "Data columns (total 9 columns):\n",
            " #   Column                    Non-Null Count  Dtype  \n",
            "---  ------                    --------------  -----  \n",
            " 0   id                        59 non-null     int64  \n",
            " 1   Cruise                    59 non-null     object \n",
            " 2   Station                   59 non-null     float64\n",
            " 3   Type                      59 non-null     object \n",
            " 4   yyyy-mm-ddThh:mm:ss.sss   59 non-null     object \n",
            " 5   Longitude [degrees_east]  59 non-null     float64\n",
            " 6   Latitude [degrees_north]  59 non-null     float64\n",
            " 7   Bot. Depth [m]            59 non-null     float64\n",
            " 8   Ship                      59 non-null     object \n",
            "dtypes: float64(4), int64(1), object(4)\n",
            "memory usage: 4.3+ KB\n",
            "None\n",
            "<class 'pandas.core.frame.DataFrame'>\n",
            "RangeIndex: 100400 entries, 0 to 100399\n",
            "Data columns (total 4 columns):\n",
            " #   Column     Non-Null Count   Dtype  \n",
            "---  ------     --------------   -----  \n",
            " 0   id         100400 non-null  int64  \n",
            " 1   Depth [m]  100400 non-null  float64\n",
            " 2   variable   100400 non-null  object \n",
            " 3   valor      100400 non-null  float64\n",
            "dtypes: float64(2), int64(1), object(1)\n",
            "memory usage: 3.1+ MB\n",
            "None\n"
          ]
        }
      ]
    },
    {
      "cell_type": "code",
      "source": [
        "print(df_viajes.head())\n",
        "print(df_mediciones.head())"
      ],
      "metadata": {
        "colab": {
          "base_uri": "https://localhost:8080/"
        },
        "id": "FSF1HsUAIEC3",
        "outputId": "1d21f8b0-9e6a-43f6-b69a-84a72d273a81"
      },
      "execution_count": 5,
      "outputs": [
        {
          "output_type": "stream",
          "name": "stdout",
          "text": [
            "   id        Cruise  Station Type yyyy-mm-ddThh:mm:ss.sss  \\\n",
            "0  18  Crucero 2016     37.0    C     2016-10-25 12:10:00   \n",
            "1  14  Crucero 2016     26.0    C     2016-10-23 16:13:00   \n",
            "2  15  Crucero 2016     27.0    C     2016-10-23 21:17:00   \n",
            "3  16  Crucero 2016     28.0    C     2016-10-23 22:59:00   \n",
            "4  17  Crucero 2016     29.0    C     2016-10-24 00:46:00   \n",
            "\n",
            "   Longitude [degrees_east]  Latitude [degrees_north]  Bot. Depth [m] Ship  \n",
            "0                  73.05760                  46.17430           270.0   A1  \n",
            "1                  72.01045                  46.23823           260.0   A1  \n",
            "2                  72.18855                  46.27144           222.0   A1  \n",
            "3                  72.34764                  46.28825           228.0   A1  \n",
            "4                  72.51546                  46.26607           212.0   A1  \n",
            "   id  Depth [m]                                    variable  valor\n",
            "0  18      0.497  Fluorescence, WET Labs ECO-AFL/FL [mg/m^3]    0.0\n",
            "1  18      1.010  Fluorescence, WET Labs ECO-AFL/FL [mg/m^3]    0.0\n",
            "2  18      1.516  Fluorescence, WET Labs ECO-AFL/FL [mg/m^3]    0.0\n",
            "3  18      2.012  Fluorescence, WET Labs ECO-AFL/FL [mg/m^3]    0.0\n",
            "4  18      2.523  Fluorescence, WET Labs ECO-AFL/FL [mg/m^3]    0.0\n"
          ]
        }
      ]
    },
    {
      "cell_type": "markdown",
      "source": [
        "**Unir ambos archivos usando la columna “id”.**"
      ],
      "metadata": {
        "id": "yoAlxeXfJCFI"
      }
    },
    {
      "cell_type": "code",
      "source": [
        "\n",
        "df_unido = pd.merge(df_viajes, df_mediciones, on='id', how='outer')\n",
        "print(df_unido.head())\n",
        "print(df_unido.info())"
      ],
      "metadata": {
        "colab": {
          "base_uri": "https://localhost:8080/"
        },
        "id": "_cBqBRUQJE5P",
        "outputId": "280b443a-d08f-4b15-8fc7-83645c128b98"
      },
      "execution_count": 15,
      "outputs": [
        {
          "output_type": "stream",
          "name": "stdout",
          "text": [
            "   id        Cruise  Station Type yyyy-mm-ddThh:mm:ss.sss  \\\n",
            "0   0  Crucero 2016      1.0    C     2016-10-19 22:15:00   \n",
            "1   0  Crucero 2016      1.0    C     2016-10-19 22:15:00   \n",
            "2   0  Crucero 2016      1.0    C     2016-10-19 22:15:00   \n",
            "3   0  Crucero 2016      1.0    C     2016-10-19 22:15:00   \n",
            "4   0  Crucero 2016      1.0    C     2016-10-19 22:15:00   \n",
            "\n",
            "   Longitude [degrees_east]  Latitude [degrees_north]  Bot. Depth [m] Ship  \\\n",
            "0                  73.48573                  46.22015           485.0   A1   \n",
            "1                  73.48573                  46.22015           485.0   A1   \n",
            "2                  73.48573                  46.22015           485.0   A1   \n",
            "3                  73.48573                  46.22015           485.0   A1   \n",
            "4                  73.48573                  46.22015           485.0   A1   \n",
            "\n",
            "   Depth [m]                                    variable  valor  \n",
            "0      0.557  Fluorescence, WET Labs ECO-AFL/FL [mg/m^3]    0.0  \n",
            "1      1.462  Fluorescence, WET Labs ECO-AFL/FL [mg/m^3]    0.0  \n",
            "2      2.007  Fluorescence, WET Labs ECO-AFL/FL [mg/m^3]    0.0  \n",
            "3      2.523  Fluorescence, WET Labs ECO-AFL/FL [mg/m^3]    0.0  \n",
            "4      3.026  Fluorescence, WET Labs ECO-AFL/FL [mg/m^3]    0.0  \n",
            "<class 'pandas.core.frame.DataFrame'>\n",
            "RangeIndex: 119608 entries, 0 to 119607\n",
            "Data columns (total 12 columns):\n",
            " #   Column                    Non-Null Count   Dtype         \n",
            "---  ------                    --------------   -----         \n",
            " 0   id                        119608 non-null  int64         \n",
            " 1   Cruise                    119608 non-null  object        \n",
            " 2   Station                   119608 non-null  float64       \n",
            " 3   Type                      119608 non-null  object        \n",
            " 4   yyyy-mm-ddThh:mm:ss.sss   119608 non-null  datetime64[ns]\n",
            " 5   Longitude [degrees_east]  119608 non-null  float64       \n",
            " 6   Latitude [degrees_north]  119608 non-null  float64       \n",
            " 7   Bot. Depth [m]            119608 non-null  float64       \n",
            " 8   Ship                      119608 non-null  object        \n",
            " 9   Depth [m]                 119608 non-null  float64       \n",
            " 10  variable                  119608 non-null  object        \n",
            " 11  valor                     119608 non-null  float64       \n",
            "dtypes: datetime64[ns](1), float64(6), int64(1), object(4)\n",
            "memory usage: 11.0+ MB\n",
            "None\n"
          ]
        }
      ]
    },
    {
      "cell_type": "markdown",
      "source": [
        "**Estandariza las fechas. Recuerda que para una misma estación se asume que el\n",
        "tiempo no varía. Como consecuencia, se requiere mantener la primera fecha\n",
        "observada para cada combinación de estación y crucero.**"
      ],
      "metadata": {
        "id": "nLIk_0kEKw05"
      }
    },
    {
      "cell_type": "code",
      "source": [
        "\n",
        "df_unido['Fecha_Estandarizada'] = df_unido.groupby(['Cruise', 'Station'])['yyyy-mm-ddThh:mm:ss.sss'].transform('min')\n",
        "df_unido.drop(columns=['yyyy-mm-ddThh:mm:ss.sss'], inplace=True)\n",
        "df_unido.rename(columns={'Fecha_Estandarizada': 'yyyy-mm-ddThh:mm:ss.sss'}, inplace=True)\n",
        "\n",
        "\n",
        "print(df_unido.head())\n",
        "print(df_unido.info())"
      ],
      "metadata": {
        "colab": {
          "base_uri": "https://localhost:8080/"
        },
        "id": "U64qlnqqKyPs",
        "outputId": "7e222f15-e5a6-47ff-ab26-89048218616f"
      },
      "execution_count": 16,
      "outputs": [
        {
          "output_type": "stream",
          "name": "stdout",
          "text": [
            "   id        Cruise  Station Type  Longitude [degrees_east]  \\\n",
            "0   0  Crucero 2016      1.0    C                  73.48573   \n",
            "1   0  Crucero 2016      1.0    C                  73.48573   \n",
            "2   0  Crucero 2016      1.0    C                  73.48573   \n",
            "3   0  Crucero 2016      1.0    C                  73.48573   \n",
            "4   0  Crucero 2016      1.0    C                  73.48573   \n",
            "\n",
            "   Latitude [degrees_north]  Bot. Depth [m] Ship  Depth [m]  \\\n",
            "0                  46.22015           485.0   A1      0.557   \n",
            "1                  46.22015           485.0   A1      1.462   \n",
            "2                  46.22015           485.0   A1      2.007   \n",
            "3                  46.22015           485.0   A1      2.523   \n",
            "4                  46.22015           485.0   A1      3.026   \n",
            "\n",
            "                                     variable  valor yyyy-mm-ddThh:mm:ss.sss  \n",
            "0  Fluorescence, WET Labs ECO-AFL/FL [mg/m^3]    0.0     2016-10-19 22:15:00  \n",
            "1  Fluorescence, WET Labs ECO-AFL/FL [mg/m^3]    0.0     2016-10-19 22:15:00  \n",
            "2  Fluorescence, WET Labs ECO-AFL/FL [mg/m^3]    0.0     2016-10-19 22:15:00  \n",
            "3  Fluorescence, WET Labs ECO-AFL/FL [mg/m^3]    0.0     2016-10-19 22:15:00  \n",
            "4  Fluorescence, WET Labs ECO-AFL/FL [mg/m^3]    0.0     2016-10-19 22:15:00  \n",
            "<class 'pandas.core.frame.DataFrame'>\n",
            "RangeIndex: 119608 entries, 0 to 119607\n",
            "Data columns (total 12 columns):\n",
            " #   Column                    Non-Null Count   Dtype         \n",
            "---  ------                    --------------   -----         \n",
            " 0   id                        119608 non-null  int64         \n",
            " 1   Cruise                    119608 non-null  object        \n",
            " 2   Station                   119608 non-null  float64       \n",
            " 3   Type                      119608 non-null  object        \n",
            " 4   Longitude [degrees_east]  119608 non-null  float64       \n",
            " 5   Latitude [degrees_north]  119608 non-null  float64       \n",
            " 6   Bot. Depth [m]            119608 non-null  float64       \n",
            " 7   Ship                      119608 non-null  object        \n",
            " 8   Depth [m]                 119608 non-null  float64       \n",
            " 9   variable                  119608 non-null  object        \n",
            " 10  valor                     119608 non-null  float64       \n",
            " 11  yyyy-mm-ddThh:mm:ss.sss   119608 non-null  datetime64[ns]\n",
            "dtypes: datetime64[ns](1), float64(6), int64(1), object(4)\n",
            "memory usage: 11.0+ MB\n",
            "None\n"
          ]
        }
      ]
    },
    {
      "cell_type": "markdown",
      "source": [
        "**Estandariza los nombres de las variables (nombre de las columnas)**"
      ],
      "metadata": {
        "id": "3kt5_fVDLS_c"
      }
    },
    {
      "cell_type": "code",
      "source": [
        "def limpiar_columnas(col_name):\n",
        "    col_name = col_name.lower()\n",
        "    col_name = re.sub(r'[^a-z0-9_-]', '_', col_name)\n",
        "    return col_name\n",
        "\n",
        "df_unido.columns = [limpiar_columnas(col) for col in df_unido.columns]\n",
        "\n",
        "print(df_unido.head())\n",
        "print(df_unido.info())"
      ],
      "metadata": {
        "colab": {
          "base_uri": "https://localhost:8080/"
        },
        "id": "eC0nYxZTKyNY",
        "outputId": "45f53b13-55f6-40c8-e81a-83a8b5acd576"
      },
      "execution_count": 27,
      "outputs": [
        {
          "output_type": "stream",
          "name": "stdout",
          "text": [
            "   id        cruise  station type  longitude__degrees_east_  \\\n",
            "0   0  Crucero 2016      1.0    C                  73.48573   \n",
            "1   0  Crucero 2016      1.0    C                  73.48573   \n",
            "2   0  Crucero 2016      1.0    C                  73.48573   \n",
            "3   0  Crucero 2016      1.0    C                  73.48573   \n",
            "4   0  Crucero 2016      1.0    C                  73.48573   \n",
            "\n",
            "   latitude__degrees_north_  bot__depth__m_ ship  depth__m_  \\\n",
            "0                  46.22015           485.0   A1      0.557   \n",
            "1                  46.22015           485.0   A1      1.462   \n",
            "2                  46.22015           485.0   A1      2.007   \n",
            "3                  46.22015           485.0   A1      2.523   \n",
            "4                  46.22015           485.0   A1      3.026   \n",
            "\n",
            "                               variable  valor yyyy-mm-ddthh_mm_ss_sss  \n",
            "0  Fluorescence WET Labs ECO-AFLFL mgm3    0.0     2016-10-19 22:15:00  \n",
            "1  Fluorescence WET Labs ECO-AFLFL mgm3    0.0     2016-10-19 22:15:00  \n",
            "2  Fluorescence WET Labs ECO-AFLFL mgm3    0.0     2016-10-19 22:15:00  \n",
            "3  Fluorescence WET Labs ECO-AFLFL mgm3    0.0     2016-10-19 22:15:00  \n",
            "4  Fluorescence WET Labs ECO-AFLFL mgm3    0.0     2016-10-19 22:15:00  \n",
            "<class 'pandas.core.frame.DataFrame'>\n",
            "RangeIndex: 119608 entries, 0 to 119607\n",
            "Data columns (total 12 columns):\n",
            " #   Column                    Non-Null Count   Dtype         \n",
            "---  ------                    --------------   -----         \n",
            " 0   id                        119608 non-null  int64         \n",
            " 1   cruise                    119608 non-null  object        \n",
            " 2   station                   119608 non-null  float64       \n",
            " 3   type                      119608 non-null  object        \n",
            " 4   longitude__degrees_east_  119608 non-null  float64       \n",
            " 5   latitude__degrees_north_  119608 non-null  float64       \n",
            " 6   bot__depth__m_            119608 non-null  float64       \n",
            " 7   ship                      119608 non-null  object        \n",
            " 8   depth__m_                 119608 non-null  float64       \n",
            " 9   variable                  119608 non-null  object        \n",
            " 10  valor                     119608 non-null  float64       \n",
            " 11  yyyy-mm-ddthh_mm_ss_sss   119608 non-null  datetime64[ns]\n",
            "dtypes: datetime64[ns](1), float64(6), int64(1), object(4)\n",
            "memory usage: 11.0+ MB\n",
            "None\n"
          ]
        }
      ]
    },
    {
      "cell_type": "markdown",
      "source": [
        "**Aplique la misma estandarización del punto 3 para los valores de la columna\n",
        "“variable”**"
      ],
      "metadata": {
        "id": "7t94oG0LM_tZ"
      }
    },
    {
      "cell_type": "code",
      "source": [
        "\n",
        "crucero_mas_datos = df_unido.groupby('cruise')['id'].count().idxmax()\n",
        "print(f\"El crucero con más datos es: {crucero_mas_datos}\")\n"
      ],
      "metadata": {
        "colab": {
          "base_uri": "https://localhost:8080/"
        },
        "id": "ZoeFte3dKyEV",
        "outputId": "d030c44c-cf31-45f1-d598-fc46272960c1"
      },
      "execution_count": 28,
      "outputs": [
        {
          "output_type": "stream",
          "name": "stdout",
          "text": [
            "El crucero con más datos es: Crucero 2017\n"
          ]
        }
      ]
    },
    {
      "cell_type": "code",
      "source": [
        "\n",
        "df_unido['hora'] = df_unido['yyyy-mm-ddthh_mm_ss_sss'].dt.hour\n",
        "\n",
        "cuenta_hora = df_unido['hora'].value_counts()\n",
        "hora_con_mas = cuenta_hora.idxmax()\n",
        "\n",
        "print(f\"La hora del día con más muestreos considerando los 3 años es: {hora_con_mas}\")\n"
      ],
      "metadata": {
        "colab": {
          "base_uri": "https://localhost:8080/"
        },
        "id": "YILrNUR2NORX",
        "outputId": "93d94999-0277-4bea-a786-acf9fe4f7097"
      },
      "execution_count": 29,
      "outputs": [
        {
          "output_type": "stream",
          "name": "stdout",
          "text": [
            "La hora del día con más muestreos considerando los 3 años es: 20\n"
          ]
        }
      ]
    }
  ]
}